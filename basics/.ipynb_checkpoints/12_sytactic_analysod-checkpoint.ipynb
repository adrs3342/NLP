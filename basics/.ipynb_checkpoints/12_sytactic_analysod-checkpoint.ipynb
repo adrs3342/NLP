{
 "cells": [
  {
   "cell_type": "code",
   "execution_count": null,
   "id": "f1194b23-1b16-4db9-b6db-be005559bf72",
   "metadata": {},
   "outputs": [],
   "source": []
  },
  {
   "cell_type": "code",
   "execution_count": 1,
   "id": "4089bfa3-ce9d-4390-bcf2-24f7cd663645",
   "metadata": {},
   "outputs": [],
   "source": [
    "from nltk.tokenize import word_tokenize\n",
    "from nltk import pos_tag"
   ]
  },
  {
   "cell_type": "code",
   "execution_count": 7,
   "id": "52624197-0fc8-46ef-b85a-e903488c33c8",
   "metadata": {},
   "outputs": [
    {
     "data": {
      "text/plain": [
       "['Moroccan',\n",
       " 'fairy',\n",
       " 'tale',\n",
       " 'ends',\n",
       " 'by',\n",
       " 'the',\n",
       " 'hands',\n",
       " 'of',\n",
       " 'France',\n",
       " '.']"
      ]
     },
     "execution_count": 7,
     "metadata": {},
     "output_type": "execute_result"
    }
   ],
   "source": [
    "sent = 'Moroccan fairy tale ends by the hands of France.'\n",
    "x= word_tokenize(sent)\n",
    "x"
   ]
  },
  {
   "cell_type": "code",
   "execution_count": 9,
   "id": "a10b6e95-8ba2-465e-b05d-bc7dc4e1dd0f",
   "metadata": {},
   "outputs": [
    {
     "data": {
      "text/plain": [
       "[('Moroccan', 'JJ'),\n",
       " ('fairy', 'NN'),\n",
       " ('tale', 'NN'),\n",
       " ('ends', 'NNS'),\n",
       " ('by', 'IN'),\n",
       " ('the', 'DT'),\n",
       " ('hands', 'NNS'),\n",
       " ('of', 'IN'),\n",
       " ('France', 'NNP'),\n",
       " ('.', '.')]"
      ]
     },
     "execution_count": 9,
     "metadata": {},
     "output_type": "execute_result"
    }
   ],
   "source": [
    "pos_tag(x)"
   ]
  },
  {
   "cell_type": "code",
   "execution_count": null,
   "id": "56d5c07d-62ab-4cb4-a6dc-bddc62439dac",
   "metadata": {},
   "outputs": [],
   "source": []
  }
 ],
 "metadata": {
  "kernelspec": {
   "display_name": "Python 3 (ipykernel)",
   "language": "python",
   "name": "python3"
  },
  "language_info": {
   "codemirror_mode": {
    "name": "ipython",
    "version": 3
   },
   "file_extension": ".py",
   "mimetype": "text/x-python",
   "name": "python",
   "nbconvert_exporter": "python",
   "pygments_lexer": "ipython3",
   "version": "3.12.3"
  }
 },
 "nbformat": 4,
 "nbformat_minor": 5
}
