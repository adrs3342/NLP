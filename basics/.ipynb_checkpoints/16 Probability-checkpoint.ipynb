{
 "cells": [
  {
   "cell_type": "code",
   "execution_count": 1,
   "id": "b3007570-c3f5-4ed7-98bf-d32eb58d5cb5",
   "metadata": {},
   "outputs": [],
   "source": [
    "def coin_flip_probability():\n",
    "    heads_probability = 1/2\n",
    "    return heads_probability\n",
    "\n",
    "def rolling_dice_probability(number):\n",
    "    if number not in range(1,7):\n",
    "        raise ValueError('Number must be between 1 and 6')\n",
    "    probability =1/6\n",
    "    return probability"
   ]
  },
  {
   "cell_type": "code",
   "execution_count": 9,
   "id": "66263aff-5578-4617-b2b1-3032af458757",
   "metadata": {},
   "outputs": [
    {
     "name": "stdout",
     "output_type": "stream",
     "text": [
      "Probability of heads in a coin flip:  0.5\n",
      "Probability of rolling a 4 on a die:  0.16666666666666666\n"
     ]
    }
   ],
   "source": [
    "# Example usage 1\n",
    "coin_flip_result = coin_flip_probability()\n",
    "dice_roll_result = rolling_dice_probability(4)\n",
    "\n",
    "print('Probability of heads in a coin flip: ', coin_flip_result )\n",
    "print('Probability of rolling a 4 on a die: ', dice_roll_result )"
   ]
  },
  {
   "cell_type": "code",
   "execution_count": 11,
   "id": "3cdd0558-d12f-4fd0-a314-86f7dbcd2e41",
   "metadata": {
    "collapsed": true,
    "jupyter": {
     "outputs_hidden": true
    },
    "scrolled": true
   },
   "outputs": [
    {
     "ename": "ValueError",
     "evalue": "Number must be between 1 and 6",
     "output_type": "error",
     "traceback": [
      "\u001b[1;31m---------------------------------------------------------------------------\u001b[0m",
      "\u001b[1;31mValueError\u001b[0m                                Traceback (most recent call last)",
      "Cell \u001b[1;32mIn[11], line 2\u001b[0m\n\u001b[0;32m      1\u001b[0m \u001b[38;5;66;03m# Example usage 2\u001b[39;00m\n\u001b[1;32m----> 2\u001b[0m dice_roll_result \u001b[38;5;241m=\u001b[39m \u001b[43mrolling_dice_probability\u001b[49m\u001b[43m(\u001b[49m\u001b[38;5;241;43m7\u001b[39;49m\u001b[43m)\u001b[49m\n\u001b[0;32m      3\u001b[0m \u001b[38;5;28mprint\u001b[39m(\u001b[38;5;124m'\u001b[39m\u001b[38;5;124mProbability of rolling a 4 on a die: \u001b[39m\u001b[38;5;124m'\u001b[39m, dice_roll_result )\n",
      "Cell \u001b[1;32mIn[1], line 7\u001b[0m, in \u001b[0;36mrolling_dice_probability\u001b[1;34m(number)\u001b[0m\n\u001b[0;32m      5\u001b[0m \u001b[38;5;28;01mdef\u001b[39;00m \u001b[38;5;21mrolling_dice_probability\u001b[39m(number):\n\u001b[0;32m      6\u001b[0m     \u001b[38;5;28;01mif\u001b[39;00m number \u001b[38;5;129;01mnot\u001b[39;00m \u001b[38;5;129;01min\u001b[39;00m \u001b[38;5;28mrange\u001b[39m(\u001b[38;5;241m1\u001b[39m,\u001b[38;5;241m7\u001b[39m):\n\u001b[1;32m----> 7\u001b[0m         \u001b[38;5;28;01mraise\u001b[39;00m \u001b[38;5;167;01mValueError\u001b[39;00m(\u001b[38;5;124m'\u001b[39m\u001b[38;5;124mNumber must be between 1 and 6\u001b[39m\u001b[38;5;124m'\u001b[39m)\n\u001b[0;32m      8\u001b[0m     probability \u001b[38;5;241m=\u001b[39m\u001b[38;5;241m1\u001b[39m\u001b[38;5;241m/\u001b[39m\u001b[38;5;241m6\u001b[39m\n\u001b[0;32m      9\u001b[0m     \u001b[38;5;28;01mreturn\u001b[39;00m probability\n",
      "\u001b[1;31mValueError\u001b[0m: Number must be between 1 and 6"
     ]
    }
   ],
   "source": [
    "# Example usage 2\n",
    "dice_roll_result = rolling_dice_probability(7)\n",
    "print('Probability of rolling a 4 on a die: ', dice_roll_result )"
   ]
  },
  {
   "cell_type": "markdown",
   "id": "c268c7be-b61f-4feb-b203-479c221054fe",
   "metadata": {},
   "source": [
    "##### Experimental probability"
   ]
  },
  {
   "cell_type": "code",
   "execution_count": 14,
   "id": "a1d9ce1c-7a4a-42f8-b826-991fca448424",
   "metadata": {},
   "outputs": [],
   "source": [
    "import random\n",
    "import numpy as np"
   ]
  },
  {
   "cell_type": "code",
   "execution_count": 16,
   "id": "bd183358-8117-4203-94f5-3aa2d03c9d1e",
   "metadata": {},
   "outputs": [],
   "source": [
    "def simulate_coin_flips(num_flips):\n",
    "    results = []\n",
    "    for _ in range(num_flips):\n",
    "        flip = random.choice(['heads','tails']) # random.choice pick randomly among the two parameters given\n",
    "        results.append(flip)\n",
    "    return results"
   ]
  },
  {
   "cell_type": "code",
   "execution_count": 28,
   "id": "aae30d72-b719-4dcf-ae2c-39455ae3eb99",
   "metadata": {},
   "outputs": [
    {
     "data": {
      "text/plain": [
       "3"
      ]
     },
     "execution_count": 28,
     "metadata": {},
     "output_type": "execute_result"
    }
   ],
   "source": [
    "simulate_coin_flips(10).count('heads')"
   ]
  },
  {
   "cell_type": "code",
   "execution_count": 30,
   "id": "75157204-e06c-42e6-8097-d663b4216415",
   "metadata": {},
   "outputs": [
    {
     "data": {
      "text/plain": [
       "heads    505\n",
       "tails    495\n",
       "Name: count, dtype: int64"
      ]
     },
     "execution_count": 30,
     "metadata": {},
     "output_type": "execute_result"
    }
   ],
   "source": [
    "import pandas as pd\n",
    "pd.Series(simulate_coin_flips(1000)).value_counts()"
   ]
  },
  {
   "cell_type": "code",
   "execution_count": 34,
   "id": "38b9c3a9-96e4-4f85-8840-336bef0cc508",
   "metadata": {},
   "outputs": [
    {
     "data": {
      "text/plain": [
       "Counter({'heads': 510, 'tails': 490})"
      ]
     },
     "execution_count": 34,
     "metadata": {},
     "output_type": "execute_result"
    }
   ],
   "source": [
    "from collections import Counter\n",
    "Counter(simulate_coin_flips(1000))"
   ]
  },
  {
   "cell_type": "code",
   "execution_count": 47,
   "id": "9df39760-5030-41ac-9472-ea0706a966cc",
   "metadata": {},
   "outputs": [],
   "source": [
    "def calculate_experimental_probability(results, event):\n",
    "    event_count = results.count(event)\n",
    "    total_flips = len(results)\n",
    "    probability = event_count / total_flips\n",
    "    return probability"
   ]
  },
  {
   "cell_type": "code",
   "execution_count": 49,
   "id": "d6c8492e-f6e3-4690-b4e2-7d7b3f60e7cb",
   "metadata": {},
   "outputs": [
    {
     "name": "stdout",
     "output_type": "stream",
     "text": [
      "Number of flips: 1000\n",
      "Heads probability:  0.4870\n",
      "Tails probability:  0.5130\n"
     ]
    }
   ],
   "source": [
    "#Example\n",
    "num_flips= 1000\n",
    "simulation_results = simulate_coin_flips(num_flips)\n",
    "\n",
    "heads_probability = calculate_experimental_probability(simulation_results, 'heads')\n",
    "tails_probability = calculate_experimental_probability(simulation_results, 'tails')\n",
    "\n",
    "print(f'Number of flips: {num_flips}')\n",
    "print(f'Heads probability: {heads_probability: .4f}')\n",
    "print(f'Tails probability: {tails_probability: .4f}')"
   ]
  },
  {
   "cell_type": "code",
   "execution_count": null,
   "id": "eeebcbc0-3d61-4097-8d04-c2dcb602395b",
   "metadata": {},
   "outputs": [],
   "source": []
  }
 ],
 "metadata": {
  "kernelspec": {
   "display_name": "Python 3 (ipykernel)",
   "language": "python",
   "name": "python3"
  },
  "language_info": {
   "codemirror_mode": {
    "name": "ipython",
    "version": 3
   },
   "file_extension": ".py",
   "mimetype": "text/x-python",
   "name": "python",
   "nbconvert_exporter": "python",
   "pygments_lexer": "ipython3",
   "version": "3.12.3"
  }
 },
 "nbformat": 4,
 "nbformat_minor": 5
}
