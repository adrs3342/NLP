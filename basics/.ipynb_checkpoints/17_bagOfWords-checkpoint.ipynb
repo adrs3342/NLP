{
 "cells": [
  {
   "cell_type": "code",
   "execution_count": 27,
   "id": "0f9405a1-cfb0-459e-b388-7a2fe5cb06b8",
   "metadata": {},
   "outputs": [],
   "source": [
    "from nltk.tokenize import word_tokenize\n",
    "import pandas as pd\n",
    "from nltk.corpus import stopwords"
   ]
  },
  {
   "cell_type": "code",
   "execution_count": 29,
   "id": "ccfa363f-3155-4a6d-80a4-5f9c29969bdc",
   "metadata": {},
   "outputs": [],
   "source": [
    "sent1 = 'It is a good practice for us. '\n",
    "sent2 = 'It was also good to know about it. '\n"
   ]
  },
  {
   "cell_type": "code",
   "execution_count": 149,
   "id": "f877a961-22b0-44f2-aed8-93cc3fbd63cf",
   "metadata": {},
   "outputs": [],
   "source": [
    "tokens1 = [x.lower() for x in word_tokenize(sent1)]\n",
    "tokens2 = [x.lower() for x in word_tokenize(sent2)]"
   ]
  },
  {
   "cell_type": "code",
   "execution_count": 31,
   "id": "f1e23035-a4a5-4188-8a50-4af028d1e77f",
   "metadata": {},
   "outputs": [],
   "source": [
    "tokens = set(word_tokenize(sent1 + sent2))"
   ]
  },
  {
   "cell_type": "code",
   "execution_count": 151,
   "id": "54f852da-16ca-46b7-84d2-5476641129c0",
   "metadata": {},
   "outputs": [],
   "source": [
    "tokens = list(tokens)\n",
    "tokens = [x.lower() for x in tokens]"
   ]
  },
  {
   "cell_type": "code",
   "execution_count": 169,
   "id": "61b5281e-b794-4d0e-9737-067cd4467a05",
   "metadata": {},
   "outputs": [],
   "source": [
    "from collections import defaultdict, Counter"
   ]
  },
  {
   "cell_type": "code",
   "execution_count": 171,
   "id": "290a3e3a-606e-477c-9c3a-42e55d80c6e2",
   "metadata": {},
   "outputs": [],
   "source": [
    "x = Counter(tokens1)"
   ]
  },
  {
   "cell_type": "code",
   "execution_count": 174,
   "id": "d49eeb6d-5e3b-415b-a9fc-559353da3cc7",
   "metadata": {},
   "outputs": [
    {
     "data": {
      "text/plain": [
       "Counter({'it': 1,\n",
       "         'is': 1,\n",
       "         'a': 1,\n",
       "         'good': 1,\n",
       "         'practice': 1,\n",
       "         'for': 1,\n",
       "         'us': 1,\n",
       "         '.': 1})"
      ]
     },
     "execution_count": 174,
     "metadata": {},
     "output_type": "execute_result"
    }
   ],
   "source": [
    "x"
   ]
  },
  {
   "cell_type": "code",
   "execution_count": 157,
   "id": "9b46fcfb-6a06-486c-8db4-8f6bbcb7bff8",
   "metadata": {},
   "outputs": [],
   "source": [
    "x3 = defaultdict(int)\n",
    "x2 = defaultdict(int)"
   ]
  },
  {
   "cell_type": "code",
   "execution_count": 159,
   "id": "0bb23a73-2b61-47ce-bf0f-4b0ca70020cb",
   "metadata": {},
   "outputs": [],
   "source": [
    "for i in tokens:\n",
    "    if i in tokens1:\n",
    "        x2[i]+=1\n",
    "    else:\n",
    "        x2[i] = 0\n",
    "\n",
    "        \n",
    "    if i in tokens2:\n",
    "        x3[i]+=1\n",
    "    else:\n",
    "        x3[i] = 0"
   ]
  },
  {
   "cell_type": "code",
   "execution_count": 161,
   "id": "226ce16e-0c78-46ce-b6f4-99d07122eefa",
   "metadata": {
    "scrolled": true
   },
   "outputs": [
    {
     "data": {
      "text/plain": [
       "(defaultdict(int,\n",
       "             {'.': 1,\n",
       "              'it': 2,\n",
       "              'us': 1,\n",
       "              'is': 1,\n",
       "              'also': 0,\n",
       "              'know': 0,\n",
       "              'about': 0,\n",
       "              'a': 1,\n",
       "              'was': 0,\n",
       "              'good': 1,\n",
       "              'practice': 1,\n",
       "              'for': 1,\n",
       "              'to': 0}),\n",
       " defaultdict(int,\n",
       "             {'.': 1,\n",
       "              'it': 2,\n",
       "              'us': 0,\n",
       "              'is': 0,\n",
       "              'also': 1,\n",
       "              'know': 1,\n",
       "              'about': 1,\n",
       "              'a': 0,\n",
       "              'was': 1,\n",
       "              'good': 1,\n",
       "              'practice': 0,\n",
       "              'for': 0,\n",
       "              'to': 1}))"
      ]
     },
     "execution_count": 161,
     "metadata": {},
     "output_type": "execute_result"
    }
   ],
   "source": [
    "x2, x3"
   ]
  },
  {
   "cell_type": "code",
   "execution_count": 178,
   "id": "b1af1d88-6091-462e-adfa-15eb26544237",
   "metadata": {},
   "outputs": [
    {
     "data": {
      "text/html": [
       "<div>\n",
       "<style scoped>\n",
       "    .dataframe tbody tr th:only-of-type {\n",
       "        vertical-align: middle;\n",
       "    }\n",
       "\n",
       "    .dataframe tbody tr th {\n",
       "        vertical-align: top;\n",
       "    }\n",
       "\n",
       "    .dataframe thead th {\n",
       "        text-align: right;\n",
       "    }\n",
       "</style>\n",
       "<table border=\"1\" class=\"dataframe\">\n",
       "  <thead>\n",
       "    <tr style=\"text-align: right;\">\n",
       "      <th></th>\n",
       "      <th>.</th>\n",
       "      <th>it</th>\n",
       "      <th>us</th>\n",
       "      <th>is</th>\n",
       "      <th>also</th>\n",
       "      <th>know</th>\n",
       "      <th>about</th>\n",
       "      <th>a</th>\n",
       "      <th>was</th>\n",
       "      <th>good</th>\n",
       "      <th>practice</th>\n",
       "      <th>for</th>\n",
       "      <th>to</th>\n",
       "    </tr>\n",
       "  </thead>\n",
       "  <tbody>\n",
       "    <tr>\n",
       "      <th>0</th>\n",
       "      <td>1</td>\n",
       "      <td>2</td>\n",
       "      <td>1</td>\n",
       "      <td>1</td>\n",
       "      <td>0</td>\n",
       "      <td>0</td>\n",
       "      <td>0</td>\n",
       "      <td>1</td>\n",
       "      <td>0</td>\n",
       "      <td>1</td>\n",
       "      <td>1</td>\n",
       "      <td>1</td>\n",
       "      <td>0</td>\n",
       "    </tr>\n",
       "    <tr>\n",
       "      <th>1</th>\n",
       "      <td>1</td>\n",
       "      <td>2</td>\n",
       "      <td>0</td>\n",
       "      <td>0</td>\n",
       "      <td>1</td>\n",
       "      <td>1</td>\n",
       "      <td>1</td>\n",
       "      <td>0</td>\n",
       "      <td>1</td>\n",
       "      <td>1</td>\n",
       "      <td>0</td>\n",
       "      <td>0</td>\n",
       "      <td>1</td>\n",
       "    </tr>\n",
       "  </tbody>\n",
       "</table>\n",
       "</div>"
      ],
      "text/plain": [
       "   .  it  us  is  also  know  about  a  was  good  practice  for  to\n",
       "0  1   2   1   1     0     0      0  1    0     1         1    1   0\n",
       "1  1   2   0   0     1     1      1  0    1     1         0    0   1"
      ]
     },
     "execution_count": 178,
     "metadata": {},
     "output_type": "execute_result"
    }
   ],
   "source": [
    "df = pd.DataFrame(data = [x2,x3])\n",
    "df"
   ]
  },
  {
   "cell_type": "code",
   "execution_count": 165,
   "id": "f38a1189-5fa5-4532-a3a2-c388ca33da9d",
   "metadata": {},
   "outputs": [
    {
     "data": {
      "text/html": [
       "<div>\n",
       "<style scoped>\n",
       "    .dataframe tbody tr th:only-of-type {\n",
       "        vertical-align: middle;\n",
       "    }\n",
       "\n",
       "    .dataframe tbody tr th {\n",
       "        vertical-align: top;\n",
       "    }\n",
       "\n",
       "    .dataframe thead th {\n",
       "        text-align: right;\n",
       "    }\n",
       "</style>\n",
       "<table border=\"1\" class=\"dataframe\">\n",
       "  <thead>\n",
       "    <tr style=\"text-align: right;\">\n",
       "      <th></th>\n",
       "      <th>.</th>\n",
       "      <th>it</th>\n",
       "      <th>us</th>\n",
       "      <th>is</th>\n",
       "      <th>also</th>\n",
       "      <th>know</th>\n",
       "      <th>about</th>\n",
       "      <th>a</th>\n",
       "      <th>was</th>\n",
       "      <th>good</th>\n",
       "      <th>practice</th>\n",
       "      <th>for</th>\n",
       "      <th>to</th>\n",
       "    </tr>\n",
       "  </thead>\n",
       "  <tbody>\n",
       "    <tr>\n",
       "      <th>0</th>\n",
       "      <td>1</td>\n",
       "      <td>2</td>\n",
       "      <td>1</td>\n",
       "      <td>1</td>\n",
       "      <td>0</td>\n",
       "      <td>0</td>\n",
       "      <td>0</td>\n",
       "      <td>1</td>\n",
       "      <td>0</td>\n",
       "      <td>1</td>\n",
       "      <td>1</td>\n",
       "      <td>1</td>\n",
       "      <td>0</td>\n",
       "    </tr>\n",
       "    <tr>\n",
       "      <th>1</th>\n",
       "      <td>1</td>\n",
       "      <td>2</td>\n",
       "      <td>0</td>\n",
       "      <td>0</td>\n",
       "      <td>1</td>\n",
       "      <td>1</td>\n",
       "      <td>1</td>\n",
       "      <td>0</td>\n",
       "      <td>1</td>\n",
       "      <td>1</td>\n",
       "      <td>0</td>\n",
       "      <td>0</td>\n",
       "      <td>1</td>\n",
       "    </tr>\n",
       "  </tbody>\n",
       "</table>\n",
       "</div>"
      ],
      "text/plain": [
       "   .  it  us  is  also  know  about  a  was  good  practice  for  to\n",
       "0  1   2   1   1     0     0      0  1    0     1         1    1   0\n",
       "1  1   2   0   0     1     1      1  0    1     1         0    0   1"
      ]
     },
     "execution_count": 165,
     "metadata": {},
     "output_type": "execute_result"
    }
   ],
   "source": [
    "df"
   ]
  },
  {
   "cell_type": "code",
   "execution_count": null,
   "id": "2b41d71f-5f3e-4f8c-96da-794a148c558f",
   "metadata": {},
   "outputs": [],
   "source": []
  }
 ],
 "metadata": {
  "kernelspec": {
   "display_name": "Python 3 (ipykernel)",
   "language": "python",
   "name": "python3"
  },
  "language_info": {
   "codemirror_mode": {
    "name": "ipython",
    "version": 3
   },
   "file_extension": ".py",
   "mimetype": "text/x-python",
   "name": "python",
   "nbconvert_exporter": "python",
   "pygments_lexer": "ipython3",
   "version": "3.12.3"
  }
 },
 "nbformat": 4,
 "nbformat_minor": 5
}
